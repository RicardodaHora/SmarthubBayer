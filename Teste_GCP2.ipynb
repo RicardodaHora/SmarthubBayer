{
 "cells": [
  {
   "cell_type": "code",
   "execution_count": 1,
   "metadata": {},
   "outputs": [],
   "source": [
    "#imports\n",
    "\n",
    "import certifi_win32\n",
    "from google_auth_oauthlib import flow\n",
    "from google.cloud import storage\n"
   ]
  },
  {
   "cell_type": "code",
   "execution_count": 2,
   "metadata": {},
   "outputs": [
    {
     "ename": "OSError",
     "evalue": "[WinError 10048] Only one usage of each socket address (protocol/network address/port) is normally permitted",
     "output_type": "error",
     "traceback": [
      "\u001b[1;31m---------------------------------------------------------------------------\u001b[0m",
      "\u001b[1;31mOSError\u001b[0m                                   Traceback (most recent call last)",
      "Cell \u001b[1;32mIn[2], line 5\u001b[0m\n\u001b[0;32m      1\u001b[0m flow \u001b[39m=\u001b[39m flow\u001b[39m.\u001b[39mInstalledAppFlow\u001b[39m.\u001b[39mfrom_client_secrets_file(\n\u001b[0;32m      2\u001b[0m \n\u001b[0;32m      3\u001b[0m                 \u001b[39m'\u001b[39m\u001b[39m/Users/EJLXP/Documents/SmartHub/secret_gcp.json\u001b[39m\u001b[39m'\u001b[39m, [\u001b[39m'\u001b[39m\u001b[39mhttps://www.googleapis.com/auth/devstorage.read_write\u001b[39m\u001b[39m'\u001b[39m])\n\u001b[1;32m----> 5\u001b[0m credentials \u001b[39m=\u001b[39m flow\u001b[39m.\u001b[39;49mrun_local_server(port\u001b[39m=\u001b[39;49m\u001b[39m8080\u001b[39;49m)\n",
      "File \u001b[1;32mc:\\Users\\EJLXP\\AppData\\Local\\Programs\\Python\\Python310\\lib\\site-packages\\google_auth_oauthlib\\flow.py:425\u001b[0m, in \u001b[0;36mInstalledAppFlow.run_local_server\u001b[1;34m(self, host, bind_addr, port, authorization_prompt_message, success_message, open_browser, redirect_uri_trailing_slash, timeout_seconds, **kwargs)\u001b[0m\n\u001b[0;32m    423\u001b[0m \u001b[39m# Fail fast if the address is occupied\u001b[39;00m\n\u001b[0;32m    424\u001b[0m wsgiref\u001b[39m.\u001b[39msimple_server\u001b[39m.\u001b[39mWSGIServer\u001b[39m.\u001b[39mallow_reuse_address \u001b[39m=\u001b[39m \u001b[39mFalse\u001b[39;00m\n\u001b[1;32m--> 425\u001b[0m local_server \u001b[39m=\u001b[39m wsgiref\u001b[39m.\u001b[39;49msimple_server\u001b[39m.\u001b[39;49mmake_server(\n\u001b[0;32m    426\u001b[0m     bind_addr \u001b[39mor\u001b[39;49;00m host, port, wsgi_app, handler_class\u001b[39m=\u001b[39;49m_WSGIRequestHandler\n\u001b[0;32m    427\u001b[0m )\n\u001b[0;32m    429\u001b[0m redirect_uri_format \u001b[39m=\u001b[39m (\n\u001b[0;32m    430\u001b[0m     \u001b[39m\"\u001b[39m\u001b[39mhttp://\u001b[39m\u001b[39m{}\u001b[39;00m\u001b[39m:\u001b[39m\u001b[39m{}\u001b[39;00m\u001b[39m/\u001b[39m\u001b[39m\"\u001b[39m \u001b[39mif\u001b[39;00m redirect_uri_trailing_slash \u001b[39melse\u001b[39;00m \u001b[39m\"\u001b[39m\u001b[39mhttp://\u001b[39m\u001b[39m{}\u001b[39;00m\u001b[39m:\u001b[39m\u001b[39m{}\u001b[39;00m\u001b[39m\"\u001b[39m\n\u001b[0;32m    431\u001b[0m )\n\u001b[0;32m    432\u001b[0m \u001b[39mself\u001b[39m\u001b[39m.\u001b[39mredirect_uri \u001b[39m=\u001b[39m redirect_uri_format\u001b[39m.\u001b[39mformat(host, local_server\u001b[39m.\u001b[39mserver_port)\n",
      "File \u001b[1;32mc:\\Users\\EJLXP\\AppData\\Local\\Programs\\Python\\Python310\\lib\\wsgiref\\simple_server.py:154\u001b[0m, in \u001b[0;36mmake_server\u001b[1;34m(host, port, app, server_class, handler_class)\u001b[0m\n\u001b[0;32m    150\u001b[0m \u001b[39mdef\u001b[39;00m \u001b[39mmake_server\u001b[39m(\n\u001b[0;32m    151\u001b[0m     host, port, app, server_class\u001b[39m=\u001b[39mWSGIServer, handler_class\u001b[39m=\u001b[39mWSGIRequestHandler\n\u001b[0;32m    152\u001b[0m ):\n\u001b[0;32m    153\u001b[0m \u001b[39m    \u001b[39m\u001b[39m\"\"\"Create a new WSGI server listening on `host` and `port` for `app`\"\"\"\u001b[39;00m\n\u001b[1;32m--> 154\u001b[0m     server \u001b[39m=\u001b[39m server_class((host, port), handler_class)\n\u001b[0;32m    155\u001b[0m     server\u001b[39m.\u001b[39mset_app(app)\n\u001b[0;32m    156\u001b[0m     \u001b[39mreturn\u001b[39;00m server\n",
      "File \u001b[1;32mc:\\Users\\EJLXP\\AppData\\Local\\Programs\\Python\\Python310\\lib\\socketserver.py:452\u001b[0m, in \u001b[0;36mTCPServer.__init__\u001b[1;34m(self, server_address, RequestHandlerClass, bind_and_activate)\u001b[0m\n\u001b[0;32m    450\u001b[0m \u001b[39mif\u001b[39;00m bind_and_activate:\n\u001b[0;32m    451\u001b[0m     \u001b[39mtry\u001b[39;00m:\n\u001b[1;32m--> 452\u001b[0m         \u001b[39mself\u001b[39;49m\u001b[39m.\u001b[39;49mserver_bind()\n\u001b[0;32m    453\u001b[0m         \u001b[39mself\u001b[39m\u001b[39m.\u001b[39mserver_activate()\n\u001b[0;32m    454\u001b[0m     \u001b[39mexcept\u001b[39;00m:\n",
      "File \u001b[1;32mc:\\Users\\EJLXP\\AppData\\Local\\Programs\\Python\\Python310\\lib\\wsgiref\\simple_server.py:50\u001b[0m, in \u001b[0;36mWSGIServer.server_bind\u001b[1;34m(self)\u001b[0m\n\u001b[0;32m     48\u001b[0m \u001b[39mdef\u001b[39;00m \u001b[39mserver_bind\u001b[39m(\u001b[39mself\u001b[39m):\n\u001b[0;32m     49\u001b[0m \u001b[39m    \u001b[39m\u001b[39m\"\"\"Override server_bind to store the server name.\"\"\"\u001b[39;00m\n\u001b[1;32m---> 50\u001b[0m     HTTPServer\u001b[39m.\u001b[39;49mserver_bind(\u001b[39mself\u001b[39;49m)\n\u001b[0;32m     51\u001b[0m     \u001b[39mself\u001b[39m\u001b[39m.\u001b[39msetup_environ()\n",
      "File \u001b[1;32mc:\\Users\\EJLXP\\AppData\\Local\\Programs\\Python\\Python310\\lib\\http\\server.py:137\u001b[0m, in \u001b[0;36mHTTPServer.server_bind\u001b[1;34m(self)\u001b[0m\n\u001b[0;32m    135\u001b[0m \u001b[39mdef\u001b[39;00m \u001b[39mserver_bind\u001b[39m(\u001b[39mself\u001b[39m):\n\u001b[0;32m    136\u001b[0m \u001b[39m    \u001b[39m\u001b[39m\"\"\"Override server_bind to store the server name.\"\"\"\u001b[39;00m\n\u001b[1;32m--> 137\u001b[0m     socketserver\u001b[39m.\u001b[39;49mTCPServer\u001b[39m.\u001b[39;49mserver_bind(\u001b[39mself\u001b[39;49m)\n\u001b[0;32m    138\u001b[0m     host, port \u001b[39m=\u001b[39m \u001b[39mself\u001b[39m\u001b[39m.\u001b[39mserver_address[:\u001b[39m2\u001b[39m]\n\u001b[0;32m    139\u001b[0m     \u001b[39mself\u001b[39m\u001b[39m.\u001b[39mserver_name \u001b[39m=\u001b[39m socket\u001b[39m.\u001b[39mgetfqdn(host)\n",
      "File \u001b[1;32mc:\\Users\\EJLXP\\AppData\\Local\\Programs\\Python\\Python310\\lib\\socketserver.py:466\u001b[0m, in \u001b[0;36mTCPServer.server_bind\u001b[1;34m(self)\u001b[0m\n\u001b[0;32m    464\u001b[0m \u001b[39mif\u001b[39;00m \u001b[39mself\u001b[39m\u001b[39m.\u001b[39mallow_reuse_address:\n\u001b[0;32m    465\u001b[0m     \u001b[39mself\u001b[39m\u001b[39m.\u001b[39msocket\u001b[39m.\u001b[39msetsockopt(socket\u001b[39m.\u001b[39mSOL_SOCKET, socket\u001b[39m.\u001b[39mSO_REUSEADDR, \u001b[39m1\u001b[39m)\n\u001b[1;32m--> 466\u001b[0m \u001b[39mself\u001b[39;49m\u001b[39m.\u001b[39;49msocket\u001b[39m.\u001b[39;49mbind(\u001b[39mself\u001b[39;49m\u001b[39m.\u001b[39;49mserver_address)\n\u001b[0;32m    467\u001b[0m \u001b[39mself\u001b[39m\u001b[39m.\u001b[39mserver_address \u001b[39m=\u001b[39m \u001b[39mself\u001b[39m\u001b[39m.\u001b[39msocket\u001b[39m.\u001b[39mgetsockname()\n",
      "\u001b[1;31mOSError\u001b[0m: [WinError 10048] Only one usage of each socket address (protocol/network address/port) is normally permitted"
     ]
    }
   ],
   "source": [
    "\n",
    "flow = flow.InstalledAppFlow.from_client_secrets_file(\n",
    "\n",
    "                '/Users/EJLXP/Documents/SmartHub/secret_gcp.json', ['https://www.googleapis.com/auth/devstorage.read_write'])\n",
    "\n",
    "credentials = flow.run_local_server(port=8080)"
   ]
  },
  {
   "cell_type": "code",
   "execution_count": 3,
   "metadata": {},
   "outputs": [
    {
     "ename": "NameError",
     "evalue": "name 'credentials' is not defined",
     "output_type": "error",
     "traceback": [
      "\u001b[1;31m---------------------------------------------------------------------------\u001b[0m",
      "\u001b[1;31mNameError\u001b[0m                                 Traceback (most recent call last)",
      "Cell \u001b[1;32mIn[3], line 1\u001b[0m\n\u001b[1;32m----> 1\u001b[0m storage_client  \u001b[39m=\u001b[39m storage\u001b[39m.\u001b[39mClient(project\u001b[39m=\u001b[39m\u001b[39m\"\u001b[39m\u001b[39mpbeat04042280-qa-4e56-smarthub\u001b[39m\u001b[39m\"\u001b[39m, credentials\u001b[39m=\u001b[39mcredentials)\n\u001b[0;32m      3\u001b[0m \u001b[39mprint\u001b[39m (storage_client\u001b[39m.\u001b[39mlist_buckets())\n",
      "\u001b[1;31mNameError\u001b[0m: name 'credentials' is not defined"
     ]
    }
   ],
   "source": [
    "storage_client  = storage.Client(project=\"pbeat04042280-qa-4e56-smarthub\", credentials=credentials)\n",
    "\n",
    "print (storage_client.list_buckets())"
   ]
  },
  {
   "cell_type": "code",
   "execution_count": null,
   "metadata": {},
   "outputs": [],
   "source": []
  }
 ],
 "metadata": {
  "kernelspec": {
   "display_name": "Python 3",
   "language": "python",
   "name": "python3"
  },
  "language_info": {
   "codemirror_mode": {
    "name": "ipython",
    "version": 3
   },
   "file_extension": ".py",
   "mimetype": "text/x-python",
   "name": "python",
   "nbconvert_exporter": "python",
   "pygments_lexer": "ipython3",
   "version": "3.10.11"
  },
  "orig_nbformat": 4
 },
 "nbformat": 4,
 "nbformat_minor": 2
}
