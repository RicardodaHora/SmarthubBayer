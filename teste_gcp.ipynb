{
 "cells": [
  {
   "cell_type": "code",
   "execution_count": null,
   "metadata": {},
   "outputs": [
    {
     "ename": "",
     "evalue": "",
     "output_type": "error",
     "traceback": [
      "\u001b[1;31mRunning cells with 'c:\\Users\\EJLXP\\AppData\\Local\\Programs\\Python\\Python311\\python.exe' requires the ipykernel package.\n",
      "\u001b[1;31mRun the following command to install 'ipykernel' into the Python environment. \n",
      "\u001b[1;31mCommand: 'c:/Users/EJLXP/AppData/Local/Programs/Python/Python311/python.exe -m pip install ipykernel -U --user --force-reinstall'"
     ]
    }
   ],
   "source": [
    "from google.cloud import bigquery\n",
    "from google.oauth2 import service_account\n",
    "from google.cloud import storage\n",
    "import pandas as pd\n",
    "\n",
    "credentials_path = '/Users/EJLXP/Documents/SmartHub/secret_gcp.json'\n",
    "client = bigquery.Client.from_service_account_json(credentials_path)\n",
    "\n",
    "\n",
    "bucket_name = 'bra-pbeat04042280-qa-4e56-raw'\n",
    "client2 = storage.Client.from_service_account_json(credentials_path)\n",
    "bucket = client2.bucket(bucket_name)\n",
    "\n",
    "# Lista todos os arquivos no bucket\n",
    "blobs = list(bucket.list_blobs())\n",
    "\n",
    "\n",
    "# Lê o conteúdo de cada arquivo como um DataFrame\n",
    "dfs = []\n",
    "for blob in blobs:\n",
    "    # Cria um objeto BytesIO a partir do conteúdo do arquivo\n",
    "    file_obj = pd.io.common.BytesIO(blob.download_as_bytes())\n",
    "    \n",
    "    # Lê o conteúdo do arquivo como um DataFrame\n",
    "    df = pd.read_csv(file_obj)\n",
    "    \n",
    "    # Adiciona o DataFrame à lista\n",
    "    dfs.append(df)\n",
    "\n",
    "# Concatena todos os DataFrames\n",
    "df_concat = pd.concat(dfs)\n",
    "\n",
    "# Imprime o DataFrame \n",
    "num_records = df_concat.shape[0]\n",
    "print(num_records)    \n",
    "\n"
   ]
  }
 ],
 "metadata": {
  "kernelspec": {
   "display_name": "Python 3",
   "language": "python",
   "name": "python3"
  },
  "language_info": {
   "name": "python",
   "version": "3.11.4"
  },
  "orig_nbformat": 4
 },
 "nbformat": 4,
 "nbformat_minor": 2
}
